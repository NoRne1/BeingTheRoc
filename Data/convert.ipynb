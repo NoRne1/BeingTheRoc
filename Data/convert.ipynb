{
 "cells": [
  {
   "cell_type": "code",
   "execution_count": 3,
   "id": "4b7f5c19",
   "metadata": {
    "scrolled": true
   },
   "outputs": [
    {
     "name": "stdout",
     "output_type": "stream",
     "text": [
      "done\n"
     ]
    }
   ],
   "source": [
    "# import os\n",
    "# import json\n",
    "# import pandas as pd\n",
    "\n",
    "# path = '../'\n",
    "# for root, dirs, files in os.walk(path):\n",
    "#     for file in files:\n",
    "#         if file.endswith('.xlsx'):\n",
    "#             # 读取 Excel 文件\n",
    "#             df = pd.read_excel(os.path.join(root, file))\n",
    "\n",
    "#             # 将 DataFrame 转换为 JSON 格式\n",
    "#             json_data = df.to_json(orient='records', force_ascii=False)\n",
    "\n",
    "#             # 重新封装JSON数据\n",
    "#             json_data = json.loads(json_data)\n",
    "#             new_json_data = {}\n",
    "#             for item in json_data:\n",
    "#                 id_value = item['ID']  # 获取ID字段的值\n",
    "#                 new_json_data[id_value] = item  # 使用ID值作为键，保留整个记录作为值\n",
    "\n",
    "#             # 写入 JSON 文件\n",
    "#             file_name = file.split(\".\")[0] + \".json\"\n",
    "#             with open(os.path.join(root, file_name), 'w', encoding='utf-8') as f:\n",
    "#                 json.dump(new_json_data, f, ensure_ascii=False, indent=4)\n",
    "                \n",
    "# print(\"done\")\n"
   ]
  },
  {
   "cell_type": "code",
   "execution_count": 12,
   "id": "12a4a0e9",
   "metadata": {},
   "outputs": [
    {
     "name": "stdout",
     "output_type": "stream",
     "text": [
      "done\n"
     ]
    }
   ],
   "source": [
    "# import os\n",
    "# import pandas as pd\n",
    "# import json\n",
    "\n",
    "# def process_data(data):\n",
    "#     processed_data = {}\n",
    "#     for key, value in data.items():\n",
    "#         if '.' in key:\n",
    "#             parts = key.split('.')\n",
    "#             current_dict = processed_data\n",
    "#             for part in parts[:-1]:\n",
    "#                 if part not in current_dict:\n",
    "#                     current_dict[part] = {}\n",
    "#                 current_dict = current_dict[part]\n",
    "#             # 如果值是浮点数，转换为整数\n",
    "#             if isinstance(value, float):\n",
    "#                 value = int(value)\n",
    "#             current_dict[parts[-1]] = value\n",
    "#         else:\n",
    "#             if isinstance(value, float):\n",
    "#                 value = int(value)\n",
    "#             processed_data[key] = value\n",
    "#     return processed_data\n",
    "\n",
    "# path = '../'\n",
    "# for root, dirs, files in os.walk(path):\n",
    "#     for file in files:\n",
    "#         if file.endswith('.xlsx'):\n",
    "#             # 读取 Excel 文件\n",
    "#             df = pd.read_excel(os.path.join(root, file))\n",
    "            \n",
    "#             # 将 DataFrame 转换为 JSON 格式\n",
    "#             json_data = df.to_json(orient='records', force_ascii=False)\n",
    "\n",
    "#             # 重新封装JSON数据\n",
    "#             json_data = json.loads(json_data)\n",
    "#             new_json_data = {}\n",
    "#             for item in json_data:\n",
    "#                 id_value = item['ID']  # 获取ID字段的值\n",
    "#                 new_json_data[id_value] = process_data(item)  # 使用ID值作为键，保留整个记录作为值\n",
    "\n",
    "#             # 写入 JSON 文件\n",
    "#             file_name = file.split(\".\")[0] + \".json\"\n",
    "#             with open(os.path.join(root, file_name), 'w', encoding='utf-8') as f:\n",
    "#                 json.dump(new_json_data, f, ensure_ascii=False, indent=4)\n",
    "                \n",
    "# print(\"done\")"
   ]
  },
  {
   "cell_type": "code",
   "execution_count": 7,
   "id": "2003cd08",
   "metadata": {},
   "outputs": [
    {
     "name": "stdout",
     "output_type": "stream",
     "text": [
      "done\n"
     ]
    }
   ],
   "source": [
    "import os\n",
    "import pandas as pd\n",
    "import json\n",
    "\n",
    "def process_data(data):\n",
    "    def is_all_none(d):\n",
    "        \"\"\"检查字典中所有值是否都为None\"\"\"\n",
    "        return all(v is None for v in d.values())\n",
    "\n",
    "    processed_data = {}\n",
    "\n",
    "    for key, value in data.items():\n",
    "        parts = key.split('.')\n",
    "        current_dict = processed_data\n",
    "\n",
    "        # 逐级创建字典并设置值\n",
    "        for part in parts[:-1]:\n",
    "            # 如果当前键不存在或不是字典，则强制设为字典\n",
    "            if part not in current_dict or not isinstance(current_dict[part], dict):\n",
    "                current_dict[part] = {}\n",
    "            current_dict = current_dict[part]\n",
    "\n",
    "        # 浮点数转整数\n",
    "        if isinstance(value, float):\n",
    "            value = int(value)\n",
    "\n",
    "        # 设置最终值\n",
    "        current_dict[parts[-1]] = value\n",
    "\n",
    "    # 递归清理空字典\n",
    "    def handle_nested_dicts(d):\n",
    "        for k, v in list(d.items()):\n",
    "            if isinstance(v, dict):\n",
    "                handle_nested_dicts(v)\n",
    "                if is_all_none(v):\n",
    "                    d[k] = None\n",
    "\n",
    "    handle_nested_dicts(processed_data)\n",
    "    return processed_data\n",
    "\n",
    "path = '../'\n",
    "for root, dirs, files in os.walk(path):\n",
    "    for file in files:\n",
    "        if file.endswith('.xlsx'):\n",
    "            # 读取 Excel 文件\n",
    "            df = pd.read_excel(os.path.join(root, file))\n",
    "            \n",
    "            # 将 DataFrame 转换为 JSON 格式\n",
    "            json_data = df.to_json(orient='records', force_ascii=False)\n",
    "\n",
    "            # 重新封装JSON数据\n",
    "            json_data = json.loads(json_data)\n",
    "            new_json_data = {}\n",
    "            for item in json_data:\n",
    "                id_value = item['ID']  # 获取ID字段的值\n",
    "                new_json_data[id_value] = process_data(item)  # 使用ID值作为键，保留整个记录作为值\n",
    "\n",
    "            # 写入 JSON 文件\n",
    "            file_name = file.split(\".\")[0] + \".json\"\n",
    "            with open(os.path.join(root, file_name), 'w', encoding='utf-8') as f:\n",
    "                json.dump(new_json_data, f, ensure_ascii=False, indent=4)\n",
    "                \n",
    "print(\"done\")"
   ]
  },
  {
   "cell_type": "code",
   "execution_count": null,
   "id": "eaee6a49-f16f-4a61-8d71-39a3d4b8fe69",
   "metadata": {},
   "outputs": [],
   "source": []
  }
 ],
 "metadata": {
  "kernelspec": {
   "display_name": "Python 3 (ipykernel)",
   "language": "python",
   "name": "python3"
  },
  "language_info": {
   "codemirror_mode": {
    "name": "ipython",
    "version": 3
   },
   "file_extension": ".py",
   "mimetype": "text/x-python",
   "name": "python",
   "nbconvert_exporter": "python",
   "pygments_lexer": "ipython3",
   "version": "3.11.7"
  }
 },
 "nbformat": 4,
 "nbformat_minor": 5
}
