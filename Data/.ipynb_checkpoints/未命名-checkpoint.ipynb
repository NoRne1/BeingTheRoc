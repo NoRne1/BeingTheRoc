{
 "cells": [
  {
   "cell_type": "code",
   "execution_count": 6,
   "id": "4b7f5c19",
   "metadata": {
    "scrolled": true
   },
   "outputs": [
    {
     "name": "stdout",
     "output_type": "stream",
     "text": [
      "done\n"
     ]
    }
   ],
   "source": [
    "import os\n",
    "import json\n",
    "import pandas as pd\n",
    "\n",
    "path = '../'\n",
    "for root, dirs, files in os.walk(path):\n",
    "    for file in files:\n",
    "        if file.endswith('.xlsx'):\n",
    "            # 读取 Excel 文件\n",
    "            df = pd.read_excel(os.path.join(root, file))\n",
    "\n",
    "            # 将 DataFrame 转换为 JSON 格式\n",
    "            json_data = df.to_json(orient='records', force_ascii=False)\n",
    "\n",
    "            # 重新封装JSON数据\n",
    "            json_data = json.loads(json_data)\n",
    "            new_json_data = {}\n",
    "            for item in json_data:\n",
    "                id_value = item['ID']  # 获取ID字段的值\n",
    "                new_json_data[id_value] = item  # 使用ID值作为键，保留整个记录作为值\n",
    "\n",
    "            # 写入 JSON 文件\n",
    "            file_name = file.split(\".\")[0] + \".json\"\n",
    "            with open(os.path.join(root, file_name), 'w', encoding='utf-8') as f:\n",
    "                json.dump(new_json_data, f, ensure_ascii=False, indent=4)\n",
    "                \n",
    "print(\"done\")\n"
   ]
  },
  {
   "cell_type": "code",
   "execution_count": null,
   "id": "12a4a0e9",
   "metadata": {},
   "outputs": [],
   "source": []
  }
 ],
 "metadata": {
  "kernelspec": {
   "display_name": "Python 3 (ipykernel)",
   "language": "python",
   "name": "python3"
  },
  "language_info": {
   "codemirror_mode": {
    "name": "ipython",
    "version": 3
   },
   "file_extension": ".py",
   "mimetype": "text/x-python",
   "name": "python",
   "nbconvert_exporter": "python",
   "pygments_lexer": "ipython3",
   "version": "3.9.7"
  }
 },
 "nbformat": 4,
 "nbformat_minor": 5
}
