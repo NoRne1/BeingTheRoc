{
 "cells": [
  {
   "cell_type": "code",
   "execution_count": 17,
   "id": "8c21b411",
   "metadata": {},
   "outputs": [
    {
     "name": "stdout",
     "output_type": "stream",
     "text": [
      "player.json\n",
      "done\n"
     ]
    }
   ],
   "source": [
    "import os\n",
    "import pandas as pd\n",
    "\n",
    "path = '../'\n",
    "for root, dirs, files in os.walk(path):\n",
    "    for file in files:\n",
    "        if file.endswith('.xlsx'):\n",
    "            # 读取 Excel 文件\n",
    "            df = pd.read_excel(os.path.join(root, file))\n",
    "\n",
    "            # 将 DataFrame 转换为 JSON 格式\n",
    "            json_data = df.to_json(orient='records', force_ascii=False)\n",
    "            fileName = file.split(\".\")[0]+\".json\"\n",
    "            print(fileName)\n",
    "            # 将 JSON 数据写入文件\n",
    "            with open(os.path.join(root, fileName), 'w', encoding='utf-8') as file:\n",
    "                file.write(json_data)\n",
    "print(\"done\")\n"
   ]
  },
  {
   "cell_type": "code",
   "execution_count": null,
   "id": "bc9fba43",
   "metadata": {},
   "outputs": [],
   "source": []
  }
 ],
 "metadata": {
  "kernelspec": {
   "display_name": "Python 3 (ipykernel)",
   "language": "python",
   "name": "python3"
  },
  "language_info": {
   "codemirror_mode": {
    "name": "ipython",
    "version": 3
   },
   "file_extension": ".py",
   "mimetype": "text/x-python",
   "name": "python",
   "nbconvert_exporter": "python",
   "pygments_lexer": "ipython3",
   "version": "3.9.7"
  }
 },
 "nbformat": 4,
 "nbformat_minor": 5
}
